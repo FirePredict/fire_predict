{
 "cells": [
  {
   "cell_type": "code",
   "execution_count": 6,
   "metadata": {
    "cell_id": "e929d91b-2bc8-4735-a106-7b6150c8a587",
    "deepnote_cell_height": 315,
    "deepnote_cell_type": "code",
    "deepnote_to_be_reexecuted": false,
    "execution_millis": 2214,
    "execution_start": 1646912695590,
    "source_hash": "3c8a5fd2",
    "tags": []
   },
   "outputs": [],
   "source": [
    "#librairies de base\n",
    "import pandas as pd\n",
    "import numpy as np\n",
    "#!pip install ./xgboost-0.4a12.tar.gz\n",
    "#import xgboost as xgb\n",
    "\n",
    "#visualisations\n",
    "import matplotlib.pyplot as plt\n",
    "import seaborn as sns\n",
    "\n",
    "#préprocessing ML\n",
    "from sklearn.preprocessing import StandardScaler\n",
    "\n",
    "#modèle de ML\n",
    "from sklearn.model_selection import train_test_split\n",
    "from sklearn.linear_model import LinearRegression"
   ]
  },
  {
   "cell_type": "code",
   "execution_count": 134,
   "metadata": {
    "cell_id": "5647fa65-856a-42f4-a8cb-01324620f0c3",
    "deepnote_cell_height": 99,
    "deepnote_cell_type": "code",
    "deepnote_to_be_reexecuted": false,
    "execution_millis": 5332,
    "execution_start": 1646912697817,
    "source_hash": "b4314e2b",
    "tags": []
   },
   "outputs": [],
   "source": [
    "mobilisation = pd.read_csv(\"LFB Mobilisation data Last 3 years.csv\", header=0, sep=\";\")\n",
    "incident = pd.read_csv(\"LFB Incident data Last 3 years.csv\", header=0, sep=\";\")"
   ]
  },
  {
   "cell_type": "code",
   "execution_count": 135,
   "metadata": {
    "cell_id": "fd631ff8-1d15-4381-9cfc-1718a1d121fd",
    "deepnote_cell_height": 81,
    "deepnote_cell_type": "code",
    "deepnote_to_be_reexecuted": false,
    "execution_millis": 3012,
    "execution_start": 1646912703160,
    "source_hash": "12d430e6",
    "tags": []
   },
   "outputs": [],
   "source": [
    "total = pd.merge(incident, mobilisation, on='IncidentNumber')"
   ]
  },
  {
   "cell_type": "code",
   "execution_count": 132,
   "metadata": {
    "cell_id": "4dfe10b1-9fa5-4e0d-9ba6-14a136058fd4",
    "deepnote_cell_height": 701,
    "deepnote_cell_type": "code",
    "deepnote_to_be_reexecuted": false,
    "execution_millis": 1281,
    "execution_start": 1646912706178,
    "source_hash": "e1592543",
    "tags": []
   },
   "outputs": [
    {
     "name": "stdout",
     "output_type": "stream",
     "text": [
      "<class 'pandas.core.frame.DataFrame'>\n",
      "Int64Index: 587073 entries, 0 to 587072\n",
      "Data columns (total 35 columns):\n",
      " #   Column                         Non-Null Count   Dtype  \n",
      "---  ------                         --------------   -----  \n",
      " 0   IncidentNumber                 587073 non-null  object \n",
      " 1   DateOfCall                     587073 non-null  object \n",
      " 2   CalYear_x                      587073 non-null  int64  \n",
      " 3   TimeOfCall                     587073 non-null  object \n",
      " 4   HourOfCall_x                   587073 non-null  int64  \n",
      " 5   IncidentGroup                  587073 non-null  object \n",
      " 6   StopCodeDescription            587073 non-null  object \n",
      " 7   PropertyCategory               587073 non-null  object \n",
      " 8   PropertyType                   587073 non-null  object \n",
      " 9   AddressQualifier               587073 non-null  object \n",
      " 10  Postcode_district              587073 non-null  object \n",
      " 11  UPRN                           587073 non-null  object \n",
      " 12  USRN                           587073 non-null  int64  \n",
      " 13  IncGeo_BoroughCode             587073 non-null  object \n",
      " 14  IncGeo_BoroughName             587073 non-null  object \n",
      " 15  ProperCase                     587073 non-null  object \n",
      " 16  Easting_rounded                587073 non-null  int64  \n",
      " 17  Northing_rounded               587073 non-null  int64  \n",
      " 18  FRS                            587073 non-null  object \n",
      " 19  IncidentStationGround          587073 non-null  object \n",
      " 20  NumStationsWithPumpsAttending  587073 non-null  float64\n",
      " 21  NumPumpsAttending              587073 non-null  float64\n",
      " 22  PumpCount                      587073 non-null  float64\n",
      " 23  CalYear_y                      587073 non-null  int64  \n",
      " 24  HourOfCall_y                   587073 non-null  int64  \n",
      " 25  ResourceMobilisationId         587073 non-null  int64  \n",
      " 26  Resource_Code                  587073 non-null  object \n",
      " 27  PerformanceReporting           587073 non-null  object \n",
      " 28  DateAndTimeMobilised           587073 non-null  object \n",
      " 29  DateAndTimeArrived             587073 non-null  object \n",
      " 30  AttendanceTimeSeconds          587073 non-null  int64  \n",
      " 31  PumpOrder                      587073 non-null  int64  \n",
      " 32  PlusCode_Code                  587073 non-null  object \n",
      " 33  PlusCode_Description           587073 non-null  object \n",
      " 34  minute                         587073 non-null  int64  \n",
      "dtypes: float64(3), int64(11), object(21)\n",
      "memory usage: 161.2+ MB\n"
     ]
    }
   ],
   "source": [
    "total.info()"
   ]
  },
  {
   "cell_type": "code",
   "execution_count": 137,
   "metadata": {
    "cell_id": "1b9254f3-06e1-4fa4-af12-00cb830536b7",
    "deepnote_cell_height": 81,
    "deepnote_cell_type": "code",
    "deepnote_output_heights": [
     21
    ],
    "deepnote_to_be_reexecuted": false,
    "execution_millis": 2350,
    "execution_start": 1646912707490,
    "source_hash": "68752e9",
    "tags": []
   },
   "outputs": [],
   "source": [
    "total = total.dropna(axis = 1)"
   ]
  },
  {
   "cell_type": "code",
   "execution_count": 138,
   "metadata": {
    "cell_id": "23ba26ac-27f5-4526-b605-13cfa2e01f36",
    "deepnote_cell_height": 708,
    "deepnote_cell_type": "code",
    "deepnote_output_heights": [
     611
    ],
    "deepnote_to_be_reexecuted": false,
    "execution_millis": 774,
    "execution_start": 1646912709846,
    "source_hash": "8a72e91a",
    "tags": []
   },
   "outputs": [
    {
     "data": {
      "text/plain": [
       "IncidentNumber                   0\n",
       "DateOfCall                       0\n",
       "CalYear_x                        0\n",
       "TimeOfCall                       0\n",
       "HourOfCall_x                     0\n",
       "IncidentGroup                    0\n",
       "StopCodeDescription              0\n",
       "PropertyCategory                 0\n",
       "PropertyType                     0\n",
       "AddressQualifier                 0\n",
       "Postcode_district                0\n",
       "UPRN                             0\n",
       "USRN                             0\n",
       "IncGeo_BoroughCode               0\n",
       "IncGeo_BoroughName               0\n",
       "ProperCase                       0\n",
       "Easting_rounded                  0\n",
       "Northing_rounded                 0\n",
       "FRS                              0\n",
       "IncidentStationGround            0\n",
       "NumStationsWithPumpsAttending    0\n",
       "NumPumpsAttending                0\n",
       "PumpCount                        0\n",
       "CalYear_y                        0\n",
       "HourOfCall_y                     0\n",
       "ResourceMobilisationId           0\n",
       "Resource_Code                    0\n",
       "PerformanceReporting             0\n",
       "DateAndTimeMobilised             0\n",
       "DateAndTimeArrived               0\n",
       "AttendanceTimeSeconds            0\n",
       "PumpOrder                        0\n",
       "PlusCode_Code                    0\n",
       "PlusCode_Description             0\n",
       "dtype: int64"
      ]
     },
     "execution_count": 138,
     "metadata": {},
     "output_type": "execute_result"
    }
   ],
   "source": [
    "total.isna().sum()"
   ]
  },
  {
   "cell_type": "code",
   "execution_count": 139,
   "metadata": {},
   "outputs": [],
   "source": [
    "total['minute'] = total['AttendanceTimeSeconds']/60\n",
    "total['minute'] =  total['minute'].astype('int64', copy=False)\n"
   ]
  },
  {
   "cell_type": "code",
   "execution_count": 108,
   "metadata": {},
   "outputs": [
    {
     "data": {
      "text/html": [
       "<div>\n",
       "<style scoped>\n",
       "    .dataframe tbody tr th:only-of-type {\n",
       "        vertical-align: middle;\n",
       "    }\n",
       "\n",
       "    .dataframe tbody tr th {\n",
       "        vertical-align: top;\n",
       "    }\n",
       "\n",
       "    .dataframe thead th {\n",
       "        text-align: right;\n",
       "    }\n",
       "</style>\n",
       "<table border=\"1\" class=\"dataframe\">\n",
       "  <thead>\n",
       "    <tr style=\"text-align: right;\">\n",
       "      <th></th>\n",
       "      <th>IncidentNumber</th>\n",
       "      <th>DateOfCall</th>\n",
       "      <th>CalYear_x</th>\n",
       "      <th>TimeOfCall</th>\n",
       "      <th>HourOfCall_x</th>\n",
       "      <th>IncidentGroup</th>\n",
       "      <th>StopCodeDescription</th>\n",
       "      <th>PropertyCategory</th>\n",
       "      <th>PropertyType</th>\n",
       "      <th>AddressQualifier</th>\n",
       "      <th>...</th>\n",
       "      <th>ResourceMobilisationId</th>\n",
       "      <th>Resource_Code</th>\n",
       "      <th>PerformanceReporting</th>\n",
       "      <th>DateAndTimeMobilised</th>\n",
       "      <th>DateAndTimeArrived</th>\n",
       "      <th>AttendanceTimeSeconds</th>\n",
       "      <th>PumpOrder</th>\n",
       "      <th>PlusCode_Code</th>\n",
       "      <th>PlusCode_Description</th>\n",
       "      <th>minute</th>\n",
       "    </tr>\n",
       "  </thead>\n",
       "  <tbody>\n",
       "    <tr>\n",
       "      <th>0</th>\n",
       "      <td>000008-01012018</td>\n",
       "      <td>01 Jan 2018</td>\n",
       "      <td>2018</td>\n",
       "      <td>00:04:25</td>\n",
       "      <td>0</td>\n",
       "      <td>False Alarm</td>\n",
       "      <td>AFA</td>\n",
       "      <td>Non Residential</td>\n",
       "      <td>Mosque</td>\n",
       "      <td>Within same building</td>\n",
       "      <td>...</td>\n",
       "      <td>5055153</td>\n",
       "      <td>A392</td>\n",
       "      <td>1</td>\n",
       "      <td>01/01/2018 00:04:25</td>\n",
       "      <td>01/01/2018 00:10:13</td>\n",
       "      <td>348</td>\n",
       "      <td>1</td>\n",
       "      <td>Initial</td>\n",
       "      <td>Initial Mobilisation</td>\n",
       "      <td>5</td>\n",
       "    </tr>\n",
       "    <tr>\n",
       "      <th>1</th>\n",
       "      <td>000193-01012018</td>\n",
       "      <td>01 Jan 2018</td>\n",
       "      <td>2018</td>\n",
       "      <td>04:12:25</td>\n",
       "      <td>4</td>\n",
       "      <td>Special Service</td>\n",
       "      <td>Special Service</td>\n",
       "      <td>Dwelling</td>\n",
       "      <td>Purpose Built Flats/Maisonettes - Up to 3 stor...</td>\n",
       "      <td>Correct incident location</td>\n",
       "      <td>...</td>\n",
       "      <td>5055355</td>\n",
       "      <td>H331</td>\n",
       "      <td>1</td>\n",
       "      <td>01/01/2018 04:12:25</td>\n",
       "      <td>01/01/2018 04:18:16</td>\n",
       "      <td>351</td>\n",
       "      <td>1</td>\n",
       "      <td>Initial</td>\n",
       "      <td>Initial Mobilisation</td>\n",
       "      <td>5</td>\n",
       "    </tr>\n",
       "    <tr>\n",
       "      <th>2</th>\n",
       "      <td>000193-01012018</td>\n",
       "      <td>01 Jan 2018</td>\n",
       "      <td>2018</td>\n",
       "      <td>04:12:25</td>\n",
       "      <td>4</td>\n",
       "      <td>Special Service</td>\n",
       "      <td>Special Service</td>\n",
       "      <td>Dwelling</td>\n",
       "      <td>Purpose Built Flats/Maisonettes - Up to 3 stor...</td>\n",
       "      <td>Correct incident location</td>\n",
       "      <td>...</td>\n",
       "      <td>5055356</td>\n",
       "      <td>G341</td>\n",
       "      <td>2</td>\n",
       "      <td>01/01/2018 04:12:25</td>\n",
       "      <td>01/01/2018 04:19:15</td>\n",
       "      <td>410</td>\n",
       "      <td>2</td>\n",
       "      <td>Initial</td>\n",
       "      <td>Initial Mobilisation</td>\n",
       "      <td>6</td>\n",
       "    </tr>\n",
       "    <tr>\n",
       "      <th>3</th>\n",
       "      <td>000127-01012018</td>\n",
       "      <td>01 Jan 2018</td>\n",
       "      <td>2018</td>\n",
       "      <td>01:39:54</td>\n",
       "      <td>1</td>\n",
       "      <td>Special Service</td>\n",
       "      <td>Special Service</td>\n",
       "      <td>Dwelling</td>\n",
       "      <td>Converted Flat/Maisonettes - 3 or more storeys</td>\n",
       "      <td>Correct incident location</td>\n",
       "      <td>...</td>\n",
       "      <td>5055262</td>\n",
       "      <td>A321</td>\n",
       "      <td>1</td>\n",
       "      <td>01/01/2018 01:39:54</td>\n",
       "      <td>01/01/2018 01:45:30</td>\n",
       "      <td>336</td>\n",
       "      <td>1</td>\n",
       "      <td>Initial</td>\n",
       "      <td>Initial Mobilisation</td>\n",
       "      <td>5</td>\n",
       "    </tr>\n",
       "    <tr>\n",
       "      <th>4</th>\n",
       "      <td>000139-01012018</td>\n",
       "      <td>01 Jan 2018</td>\n",
       "      <td>2018</td>\n",
       "      <td>01:52:29</td>\n",
       "      <td>1</td>\n",
       "      <td>Fire</td>\n",
       "      <td>Primary Fire</td>\n",
       "      <td>Dwelling</td>\n",
       "      <td>Converted Flat/Maisonettes - 3 or more storeys</td>\n",
       "      <td>Within same building</td>\n",
       "      <td>...</td>\n",
       "      <td>5055273</td>\n",
       "      <td>G271</td>\n",
       "      <td>1</td>\n",
       "      <td>01/01/2018 01:52:30</td>\n",
       "      <td>01/01/2018 01:56:18</td>\n",
       "      <td>228</td>\n",
       "      <td>1</td>\n",
       "      <td>Initial</td>\n",
       "      <td>Initial Mobilisation</td>\n",
       "      <td>3</td>\n",
       "    </tr>\n",
       "  </tbody>\n",
       "</table>\n",
       "<p>5 rows × 35 columns</p>\n",
       "</div>"
      ],
      "text/plain": [
       "    IncidentNumber   DateOfCall  CalYear_x TimeOfCall  HourOfCall_x  \\\n",
       "0  000008-01012018  01 Jan 2018       2018   00:04:25             0   \n",
       "1  000193-01012018  01 Jan 2018       2018   04:12:25             4   \n",
       "2  000193-01012018  01 Jan 2018       2018   04:12:25             4   \n",
       "3  000127-01012018  01 Jan 2018       2018   01:39:54             1   \n",
       "4  000139-01012018  01 Jan 2018       2018   01:52:29             1   \n",
       "\n",
       "     IncidentGroup StopCodeDescription PropertyCategory  \\\n",
       "0      False Alarm                 AFA  Non Residential   \n",
       "1  Special Service     Special Service         Dwelling   \n",
       "2  Special Service     Special Service         Dwelling   \n",
       "3  Special Service     Special Service         Dwelling   \n",
       "4             Fire        Primary Fire         Dwelling   \n",
       "\n",
       "                                        PropertyType  \\\n",
       "0                                            Mosque    \n",
       "1  Purpose Built Flats/Maisonettes - Up to 3 stor...   \n",
       "2  Purpose Built Flats/Maisonettes - Up to 3 stor...   \n",
       "3     Converted Flat/Maisonettes - 3 or more storeys   \n",
       "4     Converted Flat/Maisonettes - 3 or more storeys   \n",
       "\n",
       "            AddressQualifier  ... ResourceMobilisationId Resource_Code  \\\n",
       "0       Within same building  ...                5055153          A392   \n",
       "1  Correct incident location  ...                5055355          H331   \n",
       "2  Correct incident location  ...                5055356          G341   \n",
       "3  Correct incident location  ...                5055262          A321   \n",
       "4       Within same building  ...                5055273          G271   \n",
       "\n",
       "   PerformanceReporting DateAndTimeMobilised   DateAndTimeArrived  \\\n",
       "0                     1  01/01/2018 00:04:25  01/01/2018 00:10:13   \n",
       "1                     1  01/01/2018 04:12:25  01/01/2018 04:18:16   \n",
       "2                     2  01/01/2018 04:12:25  01/01/2018 04:19:15   \n",
       "3                     1  01/01/2018 01:39:54  01/01/2018 01:45:30   \n",
       "4                     1  01/01/2018 01:52:30  01/01/2018 01:56:18   \n",
       "\n",
       "  AttendanceTimeSeconds  PumpOrder  PlusCode_Code  PlusCode_Description minute  \n",
       "0                   348          1        Initial  Initial Mobilisation      5  \n",
       "1                   351          1        Initial  Initial Mobilisation      5  \n",
       "2                   410          2        Initial  Initial Mobilisation      6  \n",
       "3                   336          1        Initial  Initial Mobilisation      5  \n",
       "4                   228          1        Initial  Initial Mobilisation      3  \n",
       "\n",
       "[5 rows x 35 columns]"
      ]
     },
     "execution_count": 108,
     "metadata": {},
     "output_type": "execute_result"
    }
   ],
   "source": [
    "total.head()"
   ]
  },
  {
   "cell_type": "code",
   "execution_count": 140,
   "metadata": {
    "cell_id": "2fdb0be9-069c-49e8-92c6-a6d0d1dcb2c2",
    "deepnote_cell_height": 99,
    "deepnote_cell_type": "code",
    "deepnote_to_be_reexecuted": false,
    "execution_millis": 5,
    "execution_start": 1646912710503,
    "source_hash": "a3665886",
    "tags": []
   },
   "outputs": [],
   "source": [
    "numerical_cols = [contname for contname in total.columns if total[contname].dtype in ['float64', 'int64']]\n",
    "total_numerical = total[numerical_cols]"
   ]
  },
  {
   "cell_type": "code",
   "execution_count": 141,
   "metadata": {
    "cell_id": "07503226-6a2e-42f5-a25e-ccb00443f84e",
    "deepnote_cell_height": 99,
    "deepnote_cell_type": "code",
    "deepnote_to_be_reexecuted": false,
    "execution_millis": 6,
    "execution_start": 1646912710617,
    "source_hash": "7a0b2f7b",
    "tags": []
   },
   "outputs": [],
   "source": [
    "qualitative_cols = [contname for contname in total.columns if total[contname].dtype in ['object']]\n",
    "total_qualitative = total[qualitative_cols]"
   ]
  },
  {
   "cell_type": "code",
   "execution_count": 19,
   "metadata": {
    "cell_id": "943d8ca2-efe1-4af4-9b7b-322302fe9970",
    "deepnote_cell_height": 437,
    "deepnote_cell_type": "code",
    "deepnote_table_loading": false,
    "deepnote_table_state": {
     "filters": [],
     "pageIndex": 0,
     "pageSize": 10,
     "sortBy": [
      {
       "id": "IncidentStationGround",
       "type": "asc"
      }
     ]
    },
    "deepnote_to_be_reexecuted": false,
    "execution_millis": 35,
    "execution_start": 1646912710687,
    "source_hash": "1f84cfef",
    "tags": []
   },
   "outputs": [
    {
     "data": {
      "text/html": [
       "<div>\n",
       "<style scoped>\n",
       "    .dataframe tbody tr th:only-of-type {\n",
       "        vertical-align: middle;\n",
       "    }\n",
       "\n",
       "    .dataframe tbody tr th {\n",
       "        vertical-align: top;\n",
       "    }\n",
       "\n",
       "    .dataframe thead th {\n",
       "        text-align: right;\n",
       "    }\n",
       "</style>\n",
       "<table border=\"1\" class=\"dataframe\">\n",
       "  <thead>\n",
       "    <tr style=\"text-align: right;\">\n",
       "      <th></th>\n",
       "      <th>IncidentNumber</th>\n",
       "      <th>DateOfCall</th>\n",
       "      <th>TimeOfCall</th>\n",
       "      <th>IncidentGroup</th>\n",
       "      <th>StopCodeDescription</th>\n",
       "      <th>PropertyCategory</th>\n",
       "      <th>PropertyType</th>\n",
       "      <th>AddressQualifier</th>\n",
       "      <th>Postcode_district</th>\n",
       "      <th>UPRN</th>\n",
       "      <th>...</th>\n",
       "      <th>IncGeo_BoroughName</th>\n",
       "      <th>ProperCase</th>\n",
       "      <th>FRS</th>\n",
       "      <th>IncidentStationGround</th>\n",
       "      <th>Resource_Code</th>\n",
       "      <th>PerformanceReporting</th>\n",
       "      <th>DateAndTimeMobilised</th>\n",
       "      <th>DateAndTimeArrived</th>\n",
       "      <th>PlusCode_Code</th>\n",
       "      <th>PlusCode_Description</th>\n",
       "    </tr>\n",
       "  </thead>\n",
       "  <tbody>\n",
       "    <tr>\n",
       "      <th>0</th>\n",
       "      <td>000008-01012018</td>\n",
       "      <td>01 Jan 2018</td>\n",
       "      <td>00:04:25</td>\n",
       "      <td>False Alarm</td>\n",
       "      <td>AFA</td>\n",
       "      <td>Non Residential</td>\n",
       "      <td>Mosque</td>\n",
       "      <td>Within same building</td>\n",
       "      <td>N2</td>\n",
       "      <td>200220110</td>\n",
       "      <td>...</td>\n",
       "      <td>BARNET</td>\n",
       "      <td>Barnet</td>\n",
       "      <td>London</td>\n",
       "      <td>Finchley</td>\n",
       "      <td>A392</td>\n",
       "      <td>1</td>\n",
       "      <td>01/01/2018 00:04:25</td>\n",
       "      <td>01/01/2018 00:10:13</td>\n",
       "      <td>Initial</td>\n",
       "      <td>Initial Mobilisation</td>\n",
       "    </tr>\n",
       "    <tr>\n",
       "      <th>1</th>\n",
       "      <td>000193-01012018</td>\n",
       "      <td>01 Jan 2018</td>\n",
       "      <td>04:12:25</td>\n",
       "      <td>Special Service</td>\n",
       "      <td>Special Service</td>\n",
       "      <td>Dwelling</td>\n",
       "      <td>Purpose Built Flats/Maisonettes - Up to 3 stor...</td>\n",
       "      <td>Correct incident location</td>\n",
       "      <td>SW6</td>\n",
       "      <td>0</td>\n",
       "      <td>...</td>\n",
       "      <td>HAMMERSMITH AND FULHAM</td>\n",
       "      <td>Hammersmith And fulham</td>\n",
       "      <td>London</td>\n",
       "      <td>Fulham</td>\n",
       "      <td>H331</td>\n",
       "      <td>1</td>\n",
       "      <td>01/01/2018 04:12:25</td>\n",
       "      <td>01/01/2018 04:18:16</td>\n",
       "      <td>Initial</td>\n",
       "      <td>Initial Mobilisation</td>\n",
       "    </tr>\n",
       "    <tr>\n",
       "      <th>2</th>\n",
       "      <td>000193-01012018</td>\n",
       "      <td>01 Jan 2018</td>\n",
       "      <td>04:12:25</td>\n",
       "      <td>Special Service</td>\n",
       "      <td>Special Service</td>\n",
       "      <td>Dwelling</td>\n",
       "      <td>Purpose Built Flats/Maisonettes - Up to 3 stor...</td>\n",
       "      <td>Correct incident location</td>\n",
       "      <td>SW6</td>\n",
       "      <td>0</td>\n",
       "      <td>...</td>\n",
       "      <td>HAMMERSMITH AND FULHAM</td>\n",
       "      <td>Hammersmith And fulham</td>\n",
       "      <td>London</td>\n",
       "      <td>Fulham</td>\n",
       "      <td>G341</td>\n",
       "      <td>2</td>\n",
       "      <td>01/01/2018 04:12:25</td>\n",
       "      <td>01/01/2018 04:19:15</td>\n",
       "      <td>Initial</td>\n",
       "      <td>Initial Mobilisation</td>\n",
       "    </tr>\n",
       "    <tr>\n",
       "      <th>3</th>\n",
       "      <td>000127-01012018</td>\n",
       "      <td>01 Jan 2018</td>\n",
       "      <td>01:39:54</td>\n",
       "      <td>Special Service</td>\n",
       "      <td>Special Service</td>\n",
       "      <td>Dwelling</td>\n",
       "      <td>Converted Flat/Maisonettes - 3 or more storeys</td>\n",
       "      <td>Correct incident location</td>\n",
       "      <td>N8</td>\n",
       "      <td>0</td>\n",
       "      <td>...</td>\n",
       "      <td>HARINGEY</td>\n",
       "      <td>Haringey</td>\n",
       "      <td>London</td>\n",
       "      <td>Hornsey</td>\n",
       "      <td>A321</td>\n",
       "      <td>1</td>\n",
       "      <td>01/01/2018 01:39:54</td>\n",
       "      <td>01/01/2018 01:45:30</td>\n",
       "      <td>Initial</td>\n",
       "      <td>Initial Mobilisation</td>\n",
       "    </tr>\n",
       "    <tr>\n",
       "      <th>4</th>\n",
       "      <td>000139-01012018</td>\n",
       "      <td>01 Jan 2018</td>\n",
       "      <td>01:52:29</td>\n",
       "      <td>Fire</td>\n",
       "      <td>Primary Fire</td>\n",
       "      <td>Dwelling</td>\n",
       "      <td>Converted Flat/Maisonettes - 3 or more storeys</td>\n",
       "      <td>Within same building</td>\n",
       "      <td>W11</td>\n",
       "      <td>0</td>\n",
       "      <td>...</td>\n",
       "      <td>KENSINGTON AND CHELSEA</td>\n",
       "      <td>Kensington And chelsea</td>\n",
       "      <td>London</td>\n",
       "      <td>North Kensington</td>\n",
       "      <td>G271</td>\n",
       "      <td>1</td>\n",
       "      <td>01/01/2018 01:52:30</td>\n",
       "      <td>01/01/2018 01:56:18</td>\n",
       "      <td>Initial</td>\n",
       "      <td>Initial Mobilisation</td>\n",
       "    </tr>\n",
       "  </tbody>\n",
       "</table>\n",
       "<p>5 rows × 21 columns</p>\n",
       "</div>"
      ],
      "text/plain": [
       "    IncidentNumber   DateOfCall TimeOfCall    IncidentGroup  \\\n",
       "0  000008-01012018  01 Jan 2018   00:04:25      False Alarm   \n",
       "1  000193-01012018  01 Jan 2018   04:12:25  Special Service   \n",
       "2  000193-01012018  01 Jan 2018   04:12:25  Special Service   \n",
       "3  000127-01012018  01 Jan 2018   01:39:54  Special Service   \n",
       "4  000139-01012018  01 Jan 2018   01:52:29             Fire   \n",
       "\n",
       "  StopCodeDescription PropertyCategory  \\\n",
       "0                 AFA  Non Residential   \n",
       "1     Special Service         Dwelling   \n",
       "2     Special Service         Dwelling   \n",
       "3     Special Service         Dwelling   \n",
       "4        Primary Fire         Dwelling   \n",
       "\n",
       "                                        PropertyType  \\\n",
       "0                                            Mosque    \n",
       "1  Purpose Built Flats/Maisonettes - Up to 3 stor...   \n",
       "2  Purpose Built Flats/Maisonettes - Up to 3 stor...   \n",
       "3     Converted Flat/Maisonettes - 3 or more storeys   \n",
       "4     Converted Flat/Maisonettes - 3 or more storeys   \n",
       "\n",
       "            AddressQualifier Postcode_district       UPRN  ...  \\\n",
       "0       Within same building                N2  200220110  ...   \n",
       "1  Correct incident location               SW6          0  ...   \n",
       "2  Correct incident location               SW6          0  ...   \n",
       "3  Correct incident location                N8          0  ...   \n",
       "4       Within same building               W11          0  ...   \n",
       "\n",
       "       IncGeo_BoroughName              ProperCase     FRS  \\\n",
       "0                  BARNET                  Barnet  London   \n",
       "1  HAMMERSMITH AND FULHAM  Hammersmith And fulham  London   \n",
       "2  HAMMERSMITH AND FULHAM  Hammersmith And fulham  London   \n",
       "3                HARINGEY                Haringey  London   \n",
       "4  KENSINGTON AND CHELSEA  Kensington And chelsea  London   \n",
       "\n",
       "  IncidentStationGround Resource_Code PerformanceReporting  \\\n",
       "0              Finchley          A392                    1   \n",
       "1                Fulham          H331                    1   \n",
       "2                Fulham          G341                    2   \n",
       "3               Hornsey          A321                    1   \n",
       "4      North Kensington          G271                    1   \n",
       "\n",
       "  DateAndTimeMobilised   DateAndTimeArrived PlusCode_Code  \\\n",
       "0  01/01/2018 00:04:25  01/01/2018 00:10:13       Initial   \n",
       "1  01/01/2018 04:12:25  01/01/2018 04:18:16       Initial   \n",
       "2  01/01/2018 04:12:25  01/01/2018 04:19:15       Initial   \n",
       "3  01/01/2018 01:39:54  01/01/2018 01:45:30       Initial   \n",
       "4  01/01/2018 01:52:30  01/01/2018 01:56:18       Initial   \n",
       "\n",
       "   PlusCode_Description  \n",
       "0  Initial Mobilisation  \n",
       "1  Initial Mobilisation  \n",
       "2  Initial Mobilisation  \n",
       "3  Initial Mobilisation  \n",
       "4  Initial Mobilisation  \n",
       "\n",
       "[5 rows x 21 columns]"
      ]
     },
     "execution_count": 19,
     "metadata": {},
     "output_type": "execute_result"
    }
   ],
   "source": [
    "total_qualitative.head()"
   ]
  },
  {
   "cell_type": "code",
   "execution_count": null,
   "metadata": {
    "cell_id": "b0bf18ab-6579-4f6e-9951-ef524df424f8",
    "deepnote_cell_height": 241,
    "deepnote_cell_type": "code",
    "deepnote_to_be_reexecuted": false,
    "execution_millis": 65,
    "execution_start": 1646912710725,
    "source_hash": "a6dc6acb",
    "tags": []
   },
   "outputs": [
    {
     "data": {
      "application/vnd.deepnote.dataframe.v3+json": {
       "column_count": 13,
       "columns": [
        {
         "dtype": "int64",
         "name": "CalYear_x",
         "stats": {
          "histogram": [
           {
            "bin_end": 2018.6,
            "bin_start": 2018.5,
            "count": 0
           },
           {
            "bin_end": 2018.7,
            "bin_start": 2018.6,
            "count": 0
           },
           {
            "bin_end": 2018.8,
            "bin_start": 2018.7,
            "count": 0
           },
           {
            "bin_end": 2018.9,
            "bin_start": 2018.8,
            "count": 0
           },
           {
            "bin_end": 2019,
            "bin_start": 2018.9,
            "count": 0
           },
           {
            "bin_end": 2019.1,
            "bin_start": 2019,
            "count": 1
           },
           {
            "bin_end": 2019.2,
            "bin_start": 2019.1,
            "count": 0
           },
           {
            "bin_end": 2019.3,
            "bin_start": 2019.2,
            "count": 0
           },
           {
            "bin_end": 2019.4,
            "bin_start": 2019.3,
            "count": 0
           },
           {
            "bin_end": 2019.5,
            "bin_start": 2019.4,
            "count": 0
           }
          ],
          "max": "2019",
          "min": "2019",
          "nan_count": 0,
          "unique_count": 1
         }
        },
        {
         "dtype": "int64",
         "name": "HourOfCall_x",
         "stats": {
          "histogram": [
           {
            "bin_end": 22.6,
            "bin_start": 22.5,
            "count": 0
           },
           {
            "bin_end": 22.7,
            "bin_start": 22.6,
            "count": 0
           },
           {
            "bin_end": 22.8,
            "bin_start": 22.7,
            "count": 0
           },
           {
            "bin_end": 22.9,
            "bin_start": 22.8,
            "count": 0
           },
           {
            "bin_end": 23,
            "bin_start": 22.9,
            "count": 0
           },
           {
            "bin_end": 23.1,
            "bin_start": 23,
            "count": 1
           },
           {
            "bin_end": 23.2,
            "bin_start": 23.1,
            "count": 0
           },
           {
            "bin_end": 23.3,
            "bin_start": 23.2,
            "count": 0
           },
           {
            "bin_end": 23.4,
            "bin_start": 23.3,
            "count": 0
           },
           {
            "bin_end": 23.5,
            "bin_start": 23.4,
            "count": 0
           }
          ],
          "max": "23",
          "min": "23",
          "nan_count": 0,
          "unique_count": 1
         }
        },
        {
         "dtype": "int64",
         "name": "USRN",
         "stats": {
          "histogram": [
           {
            "bin_end": 22207588.6,
            "bin_start": 22207588.5,
            "count": 0
           },
           {
            "bin_end": 22207588.7,
            "bin_start": 22207588.6,
            "count": 0
           },
           {
            "bin_end": 22207588.8,
            "bin_start": 22207588.7,
            "count": 0
           },
           {
            "bin_end": 22207588.9,
            "bin_start": 22207588.8,
            "count": 0
           },
           {
            "bin_end": 22207589,
            "bin_start": 22207588.9,
            "count": 0
           },
           {
            "bin_end": 22207589.1,
            "bin_start": 22207589,
            "count": 1
           },
           {
            "bin_end": 22207589.2,
            "bin_start": 22207589.1,
            "count": 0
           },
           {
            "bin_end": 22207589.3,
            "bin_start": 22207589.2,
            "count": 0
           },
           {
            "bin_end": 22207589.4,
            "bin_start": 22207589.3,
            "count": 0
           },
           {
            "bin_end": 22207589.5,
            "bin_start": 22207589.4,
            "count": 0
           }
          ],
          "max": "22207589",
          "min": "22207589",
          "nan_count": 0,
          "unique_count": 1
         }
        },
        {
         "dtype": "int64",
         "name": "Easting_rounded",
         "stats": {
          "histogram": [
           {
            "bin_end": 543249.6,
            "bin_start": 543249.5,
            "count": 0
           },
           {
            "bin_end": 543249.7,
            "bin_start": 543249.6,
            "count": 0
           },
           {
            "bin_end": 543249.8,
            "bin_start": 543249.7,
            "count": 0
           },
           {
            "bin_end": 543249.9,
            "bin_start": 543249.8,
            "count": 0
           },
           {
            "bin_end": 543250,
            "bin_start": 543249.9,
            "count": 0
           },
           {
            "bin_end": 543250.1,
            "bin_start": 543250,
            "count": 1
           },
           {
            "bin_end": 543250.2,
            "bin_start": 543250.1,
            "count": 0
           },
           {
            "bin_end": 543250.3,
            "bin_start": 543250.2,
            "count": 0
           },
           {
            "bin_end": 543250.4,
            "bin_start": 543250.3,
            "count": 0
           },
           {
            "bin_end": 543250.5,
            "bin_start": 543250.4,
            "count": 0
           }
          ],
          "max": "543250",
          "min": "543250",
          "nan_count": 0,
          "unique_count": 1
         }
        },
        {
         "dtype": "int64",
         "name": "Northing_rounded",
         "stats": {
          "histogram": [
           {
            "bin_end": 183749.6,
            "bin_start": 183749.5,
            "count": 0
           },
           {
            "bin_end": 183749.7,
            "bin_start": 183749.6,
            "count": 0
           },
           {
            "bin_end": 183749.8,
            "bin_start": 183749.7,
            "count": 0
           },
           {
            "bin_end": 183749.9,
            "bin_start": 183749.8,
            "count": 0
           },
           {
            "bin_end": 183750,
            "bin_start": 183749.9,
            "count": 0
           },
           {
            "bin_end": 183750.1,
            "bin_start": 183750,
            "count": 1
           },
           {
            "bin_end": 183750.2,
            "bin_start": 183750.1,
            "count": 0
           },
           {
            "bin_end": 183750.3,
            "bin_start": 183750.2,
            "count": 0
           },
           {
            "bin_end": 183750.4,
            "bin_start": 183750.3,
            "count": 0
           },
           {
            "bin_end": 183750.5,
            "bin_start": 183750.4,
            "count": 0
           }
          ],
          "max": "183750",
          "min": "183750",
          "nan_count": 0,
          "unique_count": 1
         }
        },
        {
         "dtype": "float64",
         "name": "NumStationsWithPumpsAttending",
         "stats": {
          "histogram": [
           {
            "bin_end": 0.6,
            "bin_start": 0.5,
            "count": 0
           },
           {
            "bin_end": 0.7,
            "bin_start": 0.6,
            "count": 0
           },
           {
            "bin_end": 0.8,
            "bin_start": 0.7,
            "count": 0
           },
           {
            "bin_end": 0.9,
            "bin_start": 0.8,
            "count": 0
           },
           {
            "bin_end": 1,
            "bin_start": 0.9,
            "count": 0
           },
           {
            "bin_end": 1.1,
            "bin_start": 1,
            "count": 1
           },
           {
            "bin_end": 1.2000000000000002,
            "bin_start": 1.1,
            "count": 0
           },
           {
            "bin_end": 1.3,
            "bin_start": 1.2000000000000002,
            "count": 0
           },
           {
            "bin_end": 1.4,
            "bin_start": 1.3,
            "count": 0
           },
           {
            "bin_end": 1.5,
            "bin_start": 1.4,
            "count": 0
           }
          ],
          "max": "1.0",
          "min": "1.0",
          "nan_count": 0,
          "unique_count": 1
         }
        },
        {
         "dtype": "float64",
         "name": "NumPumpsAttending",
         "stats": {
          "histogram": [
           {
            "bin_end": 0.6,
            "bin_start": 0.5,
            "count": 0
           },
           {
            "bin_end": 0.7,
            "bin_start": 0.6,
            "count": 0
           },
           {
            "bin_end": 0.8,
            "bin_start": 0.7,
            "count": 0
           },
           {
            "bin_end": 0.9,
            "bin_start": 0.8,
            "count": 0
           },
           {
            "bin_end": 1,
            "bin_start": 0.9,
            "count": 0
           },
           {
            "bin_end": 1.1,
            "bin_start": 1,
            "count": 1
           },
           {
            "bin_end": 1.2000000000000002,
            "bin_start": 1.1,
            "count": 0
           },
           {
            "bin_end": 1.3,
            "bin_start": 1.2000000000000002,
            "count": 0
           },
           {
            "bin_end": 1.4,
            "bin_start": 1.3,
            "count": 0
           },
           {
            "bin_end": 1.5,
            "bin_start": 1.4,
            "count": 0
           }
          ],
          "max": "1.0",
          "min": "1.0",
          "nan_count": 0,
          "unique_count": 1
         }
        },
        {
         "dtype": "float64",
         "name": "PumpCount",
         "stats": {
          "histogram": [
           {
            "bin_end": 0.6,
            "bin_start": 0.5,
            "count": 0
           },
           {
            "bin_end": 0.7,
            "bin_start": 0.6,
            "count": 0
           },
           {
            "bin_end": 0.8,
            "bin_start": 0.7,
            "count": 0
           },
           {
            "bin_end": 0.9,
            "bin_start": 0.8,
            "count": 0
           },
           {
            "bin_end": 1,
            "bin_start": 0.9,
            "count": 0
           },
           {
            "bin_end": 1.1,
            "bin_start": 1,
            "count": 1
           },
           {
            "bin_end": 1.2000000000000002,
            "bin_start": 1.1,
            "count": 0
           },
           {
            "bin_end": 1.3,
            "bin_start": 1.2000000000000002,
            "count": 0
           },
           {
            "bin_end": 1.4,
            "bin_start": 1.3,
            "count": 0
           },
           {
            "bin_end": 1.5,
            "bin_start": 1.4,
            "count": 0
           }
          ],
          "max": "1.0",
          "min": "1.0",
          "nan_count": 0,
          "unique_count": 1
         }
        },
        {
         "dtype": "int64",
         "name": "CalYear_y",
         "stats": {
          "histogram": [
           {
            "bin_end": 2018.6,
            "bin_start": 2018.5,
            "count": 0
           },
           {
            "bin_end": 2018.7,
            "bin_start": 2018.6,
            "count": 0
           },
           {
            "bin_end": 2018.8,
            "bin_start": 2018.7,
            "count": 0
           },
           {
            "bin_end": 2018.9,
            "bin_start": 2018.8,
            "count": 0
           },
           {
            "bin_end": 2019,
            "bin_start": 2018.9,
            "count": 0
           },
           {
            "bin_end": 2019.1,
            "bin_start": 2019,
            "count": 1
           },
           {
            "bin_end": 2019.2,
            "bin_start": 2019.1,
            "count": 0
           },
           {
            "bin_end": 2019.3,
            "bin_start": 2019.2,
            "count": 0
           },
           {
            "bin_end": 2019.4,
            "bin_start": 2019.3,
            "count": 0
           },
           {
            "bin_end": 2019.5,
            "bin_start": 2019.4,
            "count": 0
           }
          ],
          "max": "2019",
          "min": "2019",
          "nan_count": 0,
          "unique_count": 1
         }
        },
        {
         "dtype": "int64",
         "name": "HourOfCall_y",
         "stats": {
          "histogram": [
           {
            "bin_end": 22.6,
            "bin_start": 22.5,
            "count": 0
           },
           {
            "bin_end": 22.7,
            "bin_start": 22.6,
            "count": 0
           },
           {
            "bin_end": 22.8,
            "bin_start": 22.7,
            "count": 0
           },
           {
            "bin_end": 22.9,
            "bin_start": 22.8,
            "count": 0
           },
           {
            "bin_end": 23,
            "bin_start": 22.9,
            "count": 0
           },
           {
            "bin_end": 23.1,
            "bin_start": 23,
            "count": 1
           },
           {
            "bin_end": 23.2,
            "bin_start": 23.1,
            "count": 0
           },
           {
            "bin_end": 23.3,
            "bin_start": 23.2,
            "count": 0
           },
           {
            "bin_end": 23.4,
            "bin_start": 23.3,
            "count": 0
           },
           {
            "bin_end": 23.5,
            "bin_start": 23.4,
            "count": 0
           }
          ],
          "max": "23",
          "min": "23",
          "nan_count": 0,
          "unique_count": 1
         }
        },
        {
         "dtype": "int64",
         "name": "ResourceMobilisationId",
         "stats": {
          "histogram": [
           {
            "bin_end": 5431410.6,
            "bin_start": 5431410.5,
            "count": 0
           },
           {
            "bin_end": 5431410.7,
            "bin_start": 5431410.6,
            "count": 0
           },
           {
            "bin_end": 5431410.8,
            "bin_start": 5431410.7,
            "count": 0
           },
           {
            "bin_end": 5431410.9,
            "bin_start": 5431410.8,
            "count": 0
           },
           {
            "bin_end": 5431411,
            "bin_start": 5431410.9,
            "count": 0
           },
           {
            "bin_end": 5431411.1,
            "bin_start": 5431411,
            "count": 1
           },
           {
            "bin_end": 5431411.2,
            "bin_start": 5431411.1,
            "count": 0
           },
           {
            "bin_end": 5431411.3,
            "bin_start": 5431411.2,
            "count": 0
           },
           {
            "bin_end": 5431411.4,
            "bin_start": 5431411.3,
            "count": 0
           },
           {
            "bin_end": 5431411.5,
            "bin_start": 5431411.4,
            "count": 0
           }
          ],
          "max": "5431411",
          "min": "5431411",
          "nan_count": 0,
          "unique_count": 1
         }
        },
        {
         "dtype": "int64",
         "name": "AttendanceTimeSeconds",
         "stats": {
          "histogram": [
           {
            "bin_end": 342.6,
            "bin_start": 342.5,
            "count": 0
           },
           {
            "bin_end": 342.7,
            "bin_start": 342.6,
            "count": 0
           },
           {
            "bin_end": 342.8,
            "bin_start": 342.7,
            "count": 0
           },
           {
            "bin_end": 342.9,
            "bin_start": 342.8,
            "count": 0
           },
           {
            "bin_end": 343,
            "bin_start": 342.9,
            "count": 0
           },
           {
            "bin_end": 343.1,
            "bin_start": 343,
            "count": 1
           },
           {
            "bin_end": 343.2,
            "bin_start": 343.1,
            "count": 0
           },
           {
            "bin_end": 343.3,
            "bin_start": 343.2,
            "count": 0
           },
           {
            "bin_end": 343.4,
            "bin_start": 343.3,
            "count": 0
           },
           {
            "bin_end": 343.5,
            "bin_start": 343.4,
            "count": 0
           }
          ],
          "max": "343",
          "min": "343",
          "nan_count": 0,
          "unique_count": 1
         }
        },
        {
         "dtype": "int64",
         "name": "PumpOrder",
         "stats": {
          "histogram": [
           {
            "bin_end": 0.6,
            "bin_start": 0.5,
            "count": 0
           },
           {
            "bin_end": 0.7,
            "bin_start": 0.6,
            "count": 0
           },
           {
            "bin_end": 0.8,
            "bin_start": 0.7,
            "count": 0
           },
           {
            "bin_end": 0.9,
            "bin_start": 0.8,
            "count": 0
           },
           {
            "bin_end": 1,
            "bin_start": 0.9,
            "count": 0
           },
           {
            "bin_end": 1.1,
            "bin_start": 1,
            "count": 1
           },
           {
            "bin_end": 1.2000000000000002,
            "bin_start": 1.1,
            "count": 0
           },
           {
            "bin_end": 1.3,
            "bin_start": 1.2000000000000002,
            "count": 0
           },
           {
            "bin_end": 1.4,
            "bin_start": 1.3,
            "count": 0
           },
           {
            "bin_end": 1.5,
            "bin_start": 1.4,
            "count": 0
           }
          ],
          "max": "1",
          "min": "1",
          "nan_count": 0,
          "unique_count": 1
         }
        },
        {
         "dtype": "int64",
         "name": "_deepnote_index_column"
        }
       ],
       "row_count": 1,
       "rows": [
        {
         "AttendanceTimeSeconds": 343,
         "CalYear_x": 2019,
         "CalYear_y": 2019,
         "Easting_rounded": 543250,
         "HourOfCall_x": 23,
         "HourOfCall_y": 23,
         "Northing_rounded": 183750,
         "NumPumpsAttending": 1,
         "NumStationsWithPumpsAttending": 1,
         "PumpCount": 1,
         "PumpOrder": 1,
         "ResourceMobilisationId": 5431411,
         "USRN": 22207589,
         "_deepnote_index_column": 235498
        }
       ]
      },
      "text/html": [
       "<div>\n",
       "<style scoped>\n",
       "    .dataframe tbody tr th:only-of-type {\n",
       "        vertical-align: middle;\n",
       "    }\n",
       "\n",
       "    .dataframe tbody tr th {\n",
       "        vertical-align: top;\n",
       "    }\n",
       "\n",
       "    .dataframe thead th {\n",
       "        text-align: right;\n",
       "    }\n",
       "</style>\n",
       "<table border=\"1\" class=\"dataframe\">\n",
       "  <thead>\n",
       "    <tr style=\"text-align: right;\">\n",
       "      <th></th>\n",
       "      <th>CalYear_x</th>\n",
       "      <th>HourOfCall_x</th>\n",
       "      <th>USRN</th>\n",
       "      <th>Easting_rounded</th>\n",
       "      <th>Northing_rounded</th>\n",
       "      <th>NumStationsWithPumpsAttending</th>\n",
       "      <th>NumPumpsAttending</th>\n",
       "      <th>PumpCount</th>\n",
       "      <th>CalYear_y</th>\n",
       "      <th>HourOfCall_y</th>\n",
       "      <th>ResourceMobilisationId</th>\n",
       "      <th>AttendanceTimeSeconds</th>\n",
       "      <th>PumpOrder</th>\n",
       "    </tr>\n",
       "  </thead>\n",
       "  <tbody>\n",
       "    <tr>\n",
       "      <th>235498</th>\n",
       "      <td>2019</td>\n",
       "      <td>23</td>\n",
       "      <td>22207589</td>\n",
       "      <td>543250</td>\n",
       "      <td>183750</td>\n",
       "      <td>1.0</td>\n",
       "      <td>1.0</td>\n",
       "      <td>1.0</td>\n",
       "      <td>2019</td>\n",
       "      <td>23</td>\n",
       "      <td>5431411</td>\n",
       "      <td>343</td>\n",
       "      <td>1</td>\n",
       "    </tr>\n",
       "  </tbody>\n",
       "</table>\n",
       "</div>"
      ],
      "text/plain": [
       "        CalYear_x  HourOfCall_x      USRN  Easting_rounded  Northing_rounded  \\\n",
       "235498       2019            23  22207589           543250            183750   \n",
       "\n",
       "        NumStationsWithPumpsAttending  NumPumpsAttending  PumpCount  \\\n",
       "235498                            1.0                1.0        1.0   \n",
       "\n",
       "        CalYear_y  HourOfCall_y  ResourceMobilisationId  \\\n",
       "235498       2019            23                 5431411   \n",
       "\n",
       "        AttendanceTimeSeconds  PumpOrder  \n",
       "235498                    343          1  "
      ]
     },
     "execution_count": 10,
     "metadata": {},
     "output_type": "execute_result"
    }
   ],
   "source": [
    "total_numerical.sample()"
   ]
  },
  {
   "cell_type": "code",
   "execution_count": 142,
   "metadata": {},
   "outputs": [
    {
     "data": {
      "image/png": "[encoded data removed]",
      "text/plain": [
       "<Figure size 1080x720 with 2 Axes>"
      ]
     },
     "metadata": {
      "needs_background": "light"
     },
     "output_type": "display_data"
    }
   ],
   "source": [
    "plt.figure(figsize=(15, 10))\n",
    "sns.heatmap(data=total_numerical.nunique().to_frame(), cmap='RdBu_r',fmt='d',annot=True).set_title('Nombre de valeurs unique par colonne:');"
   ]
  },
  {
   "cell_type": "code",
   "execution_count": 121,
   "metadata": {},
   "outputs": [],
   "source": [
    "total_numerical = total_numerical.drop([\"USRN\", \"ResourceMobilisationId\",\"Easting_rounded\",\"Northing_rounded\"], axis = 1)"
   ]
  },
  {
   "cell_type": "code",
   "execution_count": 122,
   "metadata": {},
   "outputs": [
    {
     "data": {
      "text/plain": [
       "CalYear_x                        0\n",
       "HourOfCall_x                     0\n",
       "NumStationsWithPumpsAttending    0\n",
       "NumPumpsAttending                0\n",
       "PumpCount                        0\n",
       "CalYear_y                        0\n",
       "HourOfCall_y                     0\n",
       "AttendanceTimeSeconds            0\n",
       "PumpOrder                        0\n",
       "minute                           0\n",
       "dtype: int64"
      ]
     },
     "execution_count": 122,
     "metadata": {},
     "output_type": "execute_result"
    }
   ],
   "source": [
    "total_numerical.isna().sum()"
   ]
  },
  {
   "cell_type": "code",
   "execution_count": 143,
   "metadata": {
    "cell_id": "f85df804-9a3a-4ceb-add4-fa0c2002d5a7",
    "deepnote_cell_height": 707,
    "deepnote_cell_type": "code",
    "deepnote_output_heights": [
     592,
     21
    ],
    "deepnote_to_be_reexecuted": false,
    "execution_millis": 2375,
    "execution_start": 1646912710825,
    "source_hash": "8a0cb2c",
    "tags": []
   },
   "outputs": [
    {
     "data": {
      "image/png": "[encoded data removed]",
      "text/plain": [
       "<Figure size 1080x720 with 2 Axes>"
      ]
     },
     "metadata": {
      "needs_background": "light"
     },
     "output_type": "display_data"
    }
   ],
   "source": [
    "plt.figure(figsize=(15, 10))\n",
    "sns.heatmap(data=total_qualitative.nunique().to_frame(), cmap='RdBu_r',fmt='d',annot=True).set_title('Nombre de valeurs unique par colonne:');"
   ]
  },
  {
   "cell_type": "code",
   "execution_count": 144,
   "metadata": {
    "cell_id": "5c27d42b-5468-4548-ad5c-8b6ef27e1735",
    "deepnote_cell_height": 81,
    "deepnote_cell_type": "code",
    "deepnote_to_be_reexecuted": false,
    "execution_millis": 1,
    "execution_start": 1646912712973,
    "source_hash": "afd54683",
    "tags": []
   },
   "outputs": [],
   "source": [
    "total_quali = total_qualitative.drop([\"IncidentNumber\", \"DateOfCall\", \"TimeOfCall\", \"UPRN\", \"IncGeo_BoroughCode\", \"FRS\", \"DateAndTimeMobilised\", \"DateAndTimeArrived\", \"PlusCode_Code\", \"PlusCode_Description\"], axis = 1)"
   ]
  },
  {
   "cell_type": "code",
   "execution_count": 80,
   "metadata": {
    "cell_id": "430a6bf9-b9cf-4197-ae47-36e227ddb704",
    "deepnote_cell_height": 229,
    "deepnote_cell_type": "code",
    "deepnote_to_be_reexecuted": false,
    "execution_millis": 229,
    "execution_start": 1646912712974,
    "source_hash": "5d6a2006",
    "tags": []
   },
   "outputs": [
    {
     "data": {
      "text/html": [
       "<div>\n",
       "<style scoped>\n",
       "    .dataframe tbody tr th:only-of-type {\n",
       "        vertical-align: middle;\n",
       "    }\n",
       "\n",
       "    .dataframe tbody tr th {\n",
       "        vertical-align: top;\n",
       "    }\n",
       "\n",
       "    .dataframe thead th {\n",
       "        text-align: right;\n",
       "    }\n",
       "</style>\n",
       "<table border=\"1\" class=\"dataframe\">\n",
       "  <thead>\n",
       "    <tr style=\"text-align: right;\">\n",
       "      <th></th>\n",
       "      <th>IncidentGroup</th>\n",
       "      <th>StopCodeDescription</th>\n",
       "      <th>PropertyCategory</th>\n",
       "      <th>PropertyType</th>\n",
       "      <th>AddressQualifier</th>\n",
       "      <th>IncGeo_BoroughName</th>\n",
       "      <th>ProperCase</th>\n",
       "      <th>Resource_Code</th>\n",
       "      <th>PerformanceReporting</th>\n",
       "    </tr>\n",
       "  </thead>\n",
       "  <tbody>\n",
       "    <tr>\n",
       "      <th>387631</th>\n",
       "      <td>False Alarm</td>\n",
       "      <td>AFA</td>\n",
       "      <td>Non Residential</td>\n",
       "      <td>Warehouse</td>\n",
       "      <td>Correct incident location</td>\n",
       "      <td>SOUTHWARK</td>\n",
       "      <td>Southwark</td>\n",
       "      <td>E371</td>\n",
       "      <td>1</td>\n",
       "    </tr>\n",
       "  </tbody>\n",
       "</table>\n",
       "</div>"
      ],
      "text/plain": [
       "       IncidentGroup StopCodeDescription PropertyCategory PropertyType  \\\n",
       "387631   False Alarm                 AFA  Non Residential   Warehouse    \n",
       "\n",
       "                 AddressQualifier IncGeo_BoroughName ProperCase Resource_Code  \\\n",
       "387631  Correct incident location          SOUTHWARK  Southwark          E371   \n",
       "\n",
       "       PerformanceReporting  \n",
       "387631                    1  "
      ]
     },
     "execution_count": 80,
     "metadata": {},
     "output_type": "execute_result"
    }
   ],
   "source": [
    "total_quali.sample()"
   ]
  },
  {
   "cell_type": "code",
   "execution_count": null,
   "metadata": {
    "cell_id": "21727be0-540e-4edc-b725-654b994a3069",
    "deepnote_cell_height": 81,
    "deepnote_cell_type": "code",
    "deepnote_to_be_reexecuted": false,
    "execution_millis": 0,
    "execution_start": 1646912713062,
    "source_hash": "aa89cb2f",
    "tags": []
   },
   "outputs": [],
   "source": [
    "#total_quali = total_quali.drop([\"IncGeo_BoroughName\"], axis = 1)"
   ]
  },
  {
   "cell_type": "code",
   "execution_count": null,
   "metadata": {
    "cell_id": "76ddccb5-e484-405e-ad9d-b3c05751693d",
    "deepnote_cell_height": 81,
    "deepnote_cell_type": "code",
    "deepnote_to_be_reexecuted": false,
    "execution_millis": 346567,
    "execution_start": 1646912713063,
    "source_hash": "76590474",
    "tags": []
   },
   "outputs": [],
   "source": [
    "#total_quali = total_quali.drop([\"ProperCase\"], axis = 1)"
   ]
  },
  {
   "cell_type": "code",
   "execution_count": 145,
   "metadata": {
    "cell_id": "e6cbe505-0a03-476e-aef9-007a7e3d9183",
    "deepnote_cell_height": 253,
    "deepnote_cell_type": "code",
    "deepnote_output_heights": [
     156
    ],
    "deepnote_to_be_reexecuted": false,
    "execution_millis": 280,
    "execution_start": 1646912713064,
    "source_hash": "d00ae5e1",
    "tags": []
   },
   "outputs": [
    {
     "data": {
      "text/plain": [
       "IncidentGroup              3\n",
       "StopCodeDescription        9\n",
       "PropertyCategory           9\n",
       "PropertyType             282\n",
       "AddressQualifier          11\n",
       "Postcode_district        303\n",
       "IncGeo_BoroughName        33\n",
       "ProperCase                33\n",
       "IncidentStationGround    102\n",
       "Resource_Code            142\n",
       "PerformanceReporting       3\n",
       "dtype: int64"
      ]
     },
     "execution_count": 145,
     "metadata": {},
     "output_type": "execute_result"
    }
   ],
   "source": [
    "total_quali.nunique()"
   ]
  },
  {
   "cell_type": "code",
   "execution_count": 146,
   "metadata": {
    "cell_id": "7d98c942-31c1-4f34-ae54-6e58e6b7065a",
    "deepnote_cell_height": 81,
    "deepnote_cell_type": "code",
    "deepnote_table_loading": false,
    "deepnote_table_state": {
     "filters": [],
     "pageIndex": 15,
     "pageSize": 10,
     "sortBy": []
    },
    "deepnote_to_be_reexecuted": false,
    "execution_millis": 709,
    "execution_start": 1646912713390,
    "source_hash": "acf846f",
    "tags": []
   },
   "outputs": [],
   "source": [
    "test = pd.get_dummies(total_quali)"
   ]
  },
  {
   "cell_type": "code",
   "execution_count": 147,
   "metadata": {
    "cell_id": "683a7a1a-1698-49c7-b677-7ee3e0a25b00",
    "deepnote_cell_height": 118,
    "deepnote_cell_type": "code",
    "deepnote_output_heights": [
     21
    ],
    "deepnote_to_be_reexecuted": false,
    "execution_millis": 1,
    "execution_start": 1646912714110,
    "source_hash": "10ad8322",
    "tags": []
   },
   "outputs": [
    {
     "data": {
      "text/plain": [
       "(587073, 930)"
      ]
     },
     "execution_count": 147,
     "metadata": {},
     "output_type": "execute_result"
    }
   ],
   "source": [
    "test.shape"
   ]
  },
  {
   "cell_type": "code",
   "execution_count": 148,
   "metadata": {
    "cell_id": "7448f6fe-71c2-4e87-9e32-be17393aa2d7",
    "deepnote_cell_height": 81,
    "deepnote_cell_type": "code",
    "deepnote_to_be_reexecuted": false,
    "execution_millis": 46,
    "execution_start": 1646912714125,
    "source_hash": "9dd66914",
    "tags": []
   },
   "outputs": [],
   "source": [
    "df = pd.concat([total_numerical, test], axis = 1)"
   ]
  },
  {
   "cell_type": "code",
   "execution_count": 149,
   "metadata": {
    "cell_id": "8cfb5f32-e3af-4932-aaae-51279454db85",
    "deepnote_cell_height": 99,
    "deepnote_cell_type": "code",
    "deepnote_to_be_reexecuted": false,
    "execution_millis": 77,
    "execution_start": 1646912714176,
    "source_hash": "a8d3251a",
    "tags": []
   },
   "outputs": [],
   "source": [
    "X = df.drop([\"AttendanceTimeSeconds\", \"minute\"], axis = 1)\n",
    "y = df.minute"
   ]
  },
  {
   "cell_type": "code",
   "execution_count": 150,
   "metadata": {
    "cell_id": "d35b93c3-f01b-48b1-b6ff-bfbddb9f3658",
    "deepnote_cell_height": 81,
    "deepnote_cell_type": "code",
    "deepnote_to_be_reexecuted": false,
    "execution_millis": 633,
    "execution_start": 1646912714264,
    "source_hash": "721ec62c",
    "tags": []
   },
   "outputs": [],
   "source": [
    "X_train, X_test, y_train, y_test = train_test_split(X, y, test_size = 0.2, random_state=101)"
   ]
  },
  {
   "cell_type": "code",
   "execution_count": 60,
   "metadata": {},
   "outputs": [
    {
     "data": {
      "text/plain": [
       "(117415,)"
      ]
     },
     "execution_count": 60,
     "metadata": {},
     "output_type": "execute_result"
    }
   ],
   "source": [
    "X_train.shape\n",
    "y_train.shape\n",
    "y_test.shape"
   ]
  },
  {
   "cell_type": "code",
   "execution_count": 87,
   "metadata": {
    "cell_id": "036590fb-2ef5-493a-9b17-70d34f51b3f5",
    "deepnote_cell_height": 117,
    "deepnote_cell_type": "code",
    "deepnote_to_be_reexecuted": false,
    "execution_millis": 299,
    "execution_start": 1646912804172,
    "source_hash": "e2452ca7",
    "tags": []
   },
   "outputs": [],
   "source": [
    "sc = StandardScaler()\n",
    "X_train_scaled = sc.fit_transform(X_train.iloc[:,:11])\n",
    "X_test_scaled = sc.transform(X_test.iloc[:,:11])"
   ]
  },
  {
   "cell_type": "code",
   "execution_count": 151,
   "metadata": {
    "cell_id": "f265bf26-c9f2-42e5-8965-3597fc571113",
    "deepnote_cell_height": 136,
    "deepnote_cell_type": "code",
    "deepnote_output_heights": [
     21
    ],
    "deepnote_to_be_reexecuted": false,
    "execution_millis": 6662,
    "execution_start": 1646912806940,
    "source_hash": "92234db0",
    "tags": []
   },
   "outputs": [
    {
     "data": {
      "text/plain": [
       "LinearRegression()"
      ]
     },
     "execution_count": 151,
     "metadata": {},
     "output_type": "execute_result"
    }
   ],
   "source": [
    "model = LinearRegression()\n",
    "model.fit(X_train, y_train)"
   ]
  },
  {
   "cell_type": "code",
   "execution_count": 152,
   "metadata": {
    "cell_id": "a51acdf3-067f-4c6b-bdeb-616aed640674",
    "deepnote_cell_height": 148.39999389648438,
    "deepnote_cell_type": "code",
    "deepnote_to_be_reexecuted": false,
    "execution_millis": 337,
    "execution_start": 1646912813602,
    "source_hash": "e87f0989",
    "tags": []
   },
   "outputs": [
    {
     "name": "stdout",
     "output_type": "stream",
     "text": [
      "score train : 0.29399609802017945\n",
      "score test : 0.2863378589517179\n"
     ]
    }
   ],
   "source": [
    "print('score train :', model.score(X_train, y_train))\n",
    "print('score test :', model.score(X_test, y_test))"
   ]
  },
  {
   "cell_type": "code",
   "execution_count": null,
   "metadata": {
    "cell_id": "f327bb6c-31e0-4368-b667-bc2ef6fa7e1b",
    "deepnote_cell_height": 66,
    "deepnote_cell_type": "code",
    "tags": []
   },
   "outputs": [],
   "source": []
  },
  {
   "cell_type": "code",
   "execution_count": null,
   "metadata": {
    "cell_id": "66811b66-260e-4fcf-b346-219ebd0e1725",
    "deepnote_cell_height": 99,
    "deepnote_cell_type": "code",
    "deepnote_to_be_reexecuted": true,
    "execution_millis": 0,
    "execution_start": 1646912374550,
    "source_hash": "5b5cc70e",
    "tags": []
   },
   "outputs": [],
   "source": [
    "#score train : 0.22770281272340676\n",
    "#score test : 0.2247535100066793"
   ]
  },
  {
   "cell_type": "markdown",
   "metadata": {
    "created_in_deepnote_cell": true,
    "deepnote_cell_type": "markdown",
    "tags": []
   },
   "source": [
    "<a style='text-decoration:none;line-height:16px;display:flex;color:#5B5B62;padding:10px;justify-content:end;' href='https://deepnote.com?utm_source=created-in-deepnote-cell&projectId=b17c1edb-d108-435e-8763-692c57d2ed0e' target=\"_blank\">\n",
    "<img alt='Created in deepnote.com' style='display:inline;max-height:16px;margin:0px;margin-right:7.5px;' src='data:image/svg+xml;base64,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' > </img>\n",
    "Created in <span style='font-weight:600;margin-left:4px;'>Deepnote</span></a>"
   ]
  }
 ],
 "metadata": {
  "deepnote": {
   "is_reactive": false
  },
  "deepnote_execution_queue": [],
  "deepnote_notebook_id": "67d15952-5b2c-40d4-934a-3a6302d0cab3",
  "kernelspec": {
   "display_name": "Python 3",
   "language": "python",
   "name": "python3"
  },
  "language_info": {
   "codemirror_mode": {
    "name": "ipython",
    "version": 3
   },
   "file_extension": ".py",
   "mimetype": "text/x-python",
   "name": "python",
   "nbconvert_exporter": "python",
   "pygments_lexer": "ipython3",
   "version": "3.8.8"
  }
 },
 "nbformat": 4,
 "nbformat_minor": 2
}
