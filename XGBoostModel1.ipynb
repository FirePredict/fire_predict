{
 "cells": [
  {
   "cell_type": "code",
   "execution_count": null,
   "id": "55264c9b",
   "metadata": {},
   "outputs": [],
   "source": [
    "!pip install xgboost\n",
    "import xgboost as xgb\n",
    "import pandas as pd\n",
    "import numpy as np\n",
    "\n",
    "#visualisations\n",
    "import matplotlib.pyplot as plt\n",
    "import seaborn as sns\n",
    "\n",
    "#préprocessing ML\n",
    "from sklearn.preprocessing import StandardScaler\n",
    "\n",
    "#modèle de ML\n",
    "from sklearn.model_selection import train_test_split\n",
    "from sklearn.linear_model import LinearRegression\n",
    "from sklearn.model_selection import cross_val_score\n",
    "import sklearn.model_selection.KFold"
   ]
  },
  {
   "cell_type": "code",
   "execution_count": null,
   "id": "b0f13c3c",
   "metadata": {},
   "outputs": [],
   "source": [
    "mobilisation = pd.read_csv(\"LFB Mobilisation data Last 3 years.csv\", header=0, sep=\";\")\n",
    "incident = pd.read_csv(\"LFB Incident data Last 3 years.csv\", header=0, sep=\";\")\n"
   ]
  },
  {
   "cell_type": "code",
   "execution_count": null,
   "id": "2c7e3393",
   "metadata": {},
   "outputs": [],
   "source": [
    "total = pd.merge(incident, mobilisation, on='IncidentNumber')"
   ]
  },
  {
   "cell_type": "code",
   "execution_count": null,
   "id": "db21bc03",
   "metadata": {},
   "outputs": [],
   "source": [
    "total = total.dropna(axis = 1)"
   ]
  },
  {
   "cell_type": "code",
   "execution_count": null,
   "id": "55bafc67",
   "metadata": {},
   "outputs": [],
   "source": [
    "total['minute'] = total['AttendanceTimeSeconds']/60\n",
    "total['minute'] =  total['minute'].astype('int64', copy=False)\n"
   ]
  },
  {
   "cell_type": "code",
   "execution_count": null,
   "id": "d42f2682",
   "metadata": {},
   "outputs": [],
   "source": [
    "numerical_cols = [contname for contname in total.columns if total[contname].dtype in ['float64', 'int64']]\n",
    "total_numerical = total[numerical_cols]"
   ]
  },
  {
   "cell_type": "code",
   "execution_count": null,
   "id": "93814360",
   "metadata": {},
   "outputs": [],
   "source": [
    "qualitative_cols = [contname for contname in total.columns if total[contname].dtype in ['object']]\n",
    "total_qualitative = total[qualitative_cols]"
   ]
  },
  {
   "cell_type": "code",
   "execution_count": null,
   "id": "d48af206",
   "metadata": {},
   "outputs": [],
   "source": [
    "total_quali = total_qualitative.drop([\"IncidentNumber\", \"Postcode_district\", \"DateOfCall\", \"TimeOfCall\", \"UPRN\", \"FRS\", \"DateAndTimeMobilised\", \"DateAndTimeArrived\", \"PlusCode_Code\", \"PlusCode_Description\"], axis = 1)\n"
   ]
  },
  {
   "cell_type": "code",
   "execution_count": null,
   "id": "b4295fa5",
   "metadata": {},
   "outputs": [],
   "source": [
    "test = pd.get_dummies(total_quali)"
   ]
  },
  {
   "cell_type": "code",
   "execution_count": null,
   "id": "324d2292",
   "metadata": {},
   "outputs": [],
   "source": [
    "df = pd.concat([total_numerical, test], axis = 1)"
   ]
  },
  {
   "cell_type": "code",
   "execution_count": null,
   "id": "5ae55fff",
   "metadata": {},
   "outputs": [],
   "source": [
    "X = df.drop([\"AttendanceTimeSeconds\", \"minute\"], axis = 1)\n",
    "y = df.minute"
   ]
  },
  {
   "cell_type": "code",
   "execution_count": null,
   "id": "1060e3cf",
   "metadata": {},
   "outputs": [],
   "source": [
    "X_train, X_test, y_train, y_test = train_test_split(X, y, test_size = 0.2, random_state=101)"
   ]
  },
  {
   "cell_type": "code",
   "execution_count": null,
   "id": "b29315c3",
   "metadata": {},
   "outputs": [],
   "source": [
    "xgbr = xgb.XGBRegressor(verbosity=0) "
   ]
  },
  {
   "cell_type": "code",
   "execution_count": null,
   "id": "5c21df9d",
   "metadata": {},
   "outputs": [],
   "source": [
    "xgbr.fit(X_train, y_train)"
   ]
  },
  {
   "cell_type": "code",
   "execution_count": null,
   "id": "d7fb0d78",
   "metadata": {},
   "outputs": [],
   "source": [
    "score = xgbr.score(X_train, y_train)  \n",
    "print(\"Training score R²: \", score)"
   ]
  },
  {
   "cell_type": "code",
   "execution_count": null,
   "id": "f2bb9a94",
   "metadata": {},
   "outputs": [],
   "source": [
    "scores = cross_val_score(xgbr, X_train, y_train,cv=10)\n",
    "print(\"Mean cross-validation score: %.2f\" % scores.mean())\n"
   ]
  },
  {
   "cell_type": "code",
   "execution_count": null,
   "id": "2a0b5d4b",
   "metadata": {},
   "outputs": [],
   "source": [
    "kfold = KFold(n_splits=10, shuffle=True)\n",
    "kf_cv_scores = cross_val_score(xgbr, X_train, y_train, cv=kfold )\n",
    "print(\"K-fold CV average score: %.2f\" % kf_cv_scores.mean())\n"
   ]
  },
  {
   "cell_type": "code",
   "execution_count": null,
   "id": "4ed64d2c",
   "metadata": {},
   "outputs": [],
   "source": [
    "y_pred = xgbr.predict(X_test)\n",
    "mse = mean_squared_error(y_test, y_pred)\n",
    "print(\"MSE: %.2f\" % mse)"
   ]
  },
  {
   "cell_type": "code",
   "execution_count": null,
   "id": "606a1b08",
   "metadata": {},
   "outputs": [],
   "source": [
    "print(\"RMSE: %.2f\" % (mse**(1/2.0)))"
   ]
  },
  {
   "cell_type": "code",
   "execution_count": null,
   "id": "ed97038d",
   "metadata": {},
   "outputs": [],
   "source": [
    "x_ax = range(len(y_test))\n",
    "plt.plot(x_ax, y_test, label=\"original\")\n",
    "plt.plot(x_ax, y_pred, label=\"predicted\")\n",
    "\n",
    "plt.title(\"Predicted data\")\n",
    "\n",
    "plt.legend()\n",
    "plt.show()"
   ]
  },
  {
   "cell_type": "code",
   "execution_count": null,
   "id": "2bac547b",
   "metadata": {},
   "outputs": [],
   "source": []
  }
 ],
 "metadata": {
  "kernelspec": {
   "display_name": "Python 3",
   "language": "python",
   "name": "python3"
  },
  "language_info": {
   "codemirror_mode": {
    "name": "ipython",
    "version": 3
   },
   "file_extension": ".py",
   "mimetype": "text/x-python",
   "name": "python",
   "nbconvert_exporter": "python",
   "pygments_lexer": "ipython3",
   "version": "3.8.8"
  }
 },
 "nbformat": 4,
 "nbformat_minor": 5
}
